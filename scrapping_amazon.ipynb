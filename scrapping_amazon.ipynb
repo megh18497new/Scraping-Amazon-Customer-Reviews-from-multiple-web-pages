{
 "cells": [
  {
   "cell_type": "code",
   "execution_count": 11,
   "metadata": {},
   "outputs": [],
   "source": [
    "from bs4 import BeautifulSoup as bs\n",
    "import requests"
   ]
  },
  {
   "cell_type": "code",
   "execution_count": 12,
   "metadata": {},
   "outputs": [],
   "source": [
    "cust_name = []\n",
    "review_title = []\n",
    "review_rating = []\n",
    "review_content = []\n",
    "product_name = []\n",
    "\n",
    "urls = ['https://www.amazon.in/OnePlus-Nord-Marble-128GB-Storage/product-reviews/B086977J3K/ref=cm_cr_dp_d_show_all_btm?ie=UTF8&reviewerType=all_reviews',\n",
    "       'https://www.amazon.in/Test-Exclusive-748/product-reviews/B07DJLVJ5M/ref=cm_cr_dp_d_show_all_btm?ie=UTF8&reviewerType=all_reviews',\n",
    "       'https://www.amazon.in/Test-Exclusive-547/product-reviews/B078BNQ318/ref=cm_cr_dp_d_show_all_btm?ie=UTF8&reviewerType=all_reviews',\n",
    "       'https://www.amazon.in/Redmi-Note-Pebble-Grey-Storage/product-reviews/B086977TR6/ref=cm_cr_dp_d_show_all_btm?ie=UTF8&reviewerType=all_reviews',\n",
    "       'https://www.amazon.in/OnePlus-Mirror-Black-128GB-Storage/product-reviews/B085J3GN6M/ref=cm_cr_dp_d_show_all_btm?ie=UTF8&reviewerType=all_reviews',\n",
    "       'https://www.amazon.in/Samsung-Galaxy-Celestial-Black-Storage/product-reviews/B085J1CPCW/ref=cm_cr_dp_d_show_all_btm?ie=UTF8&reviewerType=all_reviews',\n",
    "       'https://www.amazon.in/Apple-iPhone-11-128GB-Black/product-reviews/B07XVLW7YK/ref=cm_cr_dp_d_show_all_btm?ie=UTF8&reviewerType=all_reviews',\n",
    "       'https://www.amazon.in/Apple-iPhone-Pro-Max-64GB/product-reviews/B07XVLMZHH/ref=cm_cr_dp_d_show_all_btm?ie=UTF8&reviewerType=all_reviews',\n",
    "       'https://www.amazon.in/Vivo-Mystic-Storage-Additional-Exchange/product-reviews/B08444XXKV/ref=cm_cr_dp_d_show_all_btm?ie=UTF8&reviewerType=all_reviews',\n",
    "       'https://www.amazon.in/Stream-Storage-Additional-Exchange-Offers/product-reviews/B086KCD5YS/ref=cm_cr_dp_d_show_all_btm?ie=UTF8&reviewerType=all_reviews',\n",
    "       ]\n",
    "\n",
    "for url in urls:\n",
    "    response = requests.get(url)\n",
    "    soup = bs(response.content, \"html.parser\")\n",
    "    names = soup.find_all('span',class_='a-profile-name')\n",
    "    title = soup.find_all('a',class_='review-title-content')\n",
    "    rating = soup.find_all('i',class_='review-rating')\n",
    "    review = soup.find_all(\"span\",{\"data-hook\":\"review-body\"})\n",
    "    product = soup.find(\"a\",{\"data-hook\":\"product-link\"})\n",
    "    for i in range(0,len(names)):\n",
    "        cust_name.append(names[i].get_text())\n",
    "    for i in range(0,len(title)):\n",
    "        review_title.append(title[i].get_text())\n",
    "    for i in range(0,len(rating)):\n",
    "        review_rating.append(rating[i].get_text())\n",
    "    for i in range(0,len(review)):\n",
    "        review_content.append(review[i].get_text())\n",
    "        product_name.append(product.get_text())\n",
    "    \n",
    "\n",
    "    "
   ]
  },
  {
   "cell_type": "code",
   "execution_count": 13,
   "metadata": {},
   "outputs": [
    {
     "data": {
      "text/plain": [
       "(120, 120, 100, 100, 100)"
      ]
     },
     "execution_count": 13,
     "metadata": {},
     "output_type": "execute_result"
    }
   ],
   "source": [
    "#checking the length of lists\n",
    "len(cust_name), len(review_rating), len(review_title), len(review_content), len(product_name)\n"
   ]
  },
  {
   "cell_type": "code",
   "execution_count": 14,
   "metadata": {},
   "outputs": [],
   "source": [
    "#Removing duplicate values\n",
    "for x in range(0,10):\n",
    "    cust_name.pop(x*10)\n",
    "    cust_name.pop(x*10)\n",
    "    review_rating.pop(x*10)\n",
    "    review_rating.pop(x*10)"
   ]
  },
  {
   "cell_type": "code",
   "execution_count": 15,
   "metadata": {},
   "outputs": [
    {
     "data": {
      "text/plain": [
       "(100, 100, 100, 100, 100)"
      ]
     },
     "execution_count": 15,
     "metadata": {},
     "output_type": "execute_result"
    }
   ],
   "source": [
    "#checking the length of lists\n",
    "len(cust_name), len(review_rating), len(review_title), len(review_content), len(product_name)"
   ]
  },
  {
   "cell_type": "code",
   "execution_count": 16,
   "metadata": {},
   "outputs": [],
   "source": [
    "#Removing \"\\n\" from review_title and review_content\n",
    "review_title[:] = [titles.lstrip('\\n') for titles in review_title]\n",
    "review_title[:] = [titles.rstrip('\\n') for titles in review_title]\n",
    "review_content[:] = [reviews.lstrip('\\n') for reviews in review_content]\n",
    "review_content[:] = [reviews.rstrip('\\n') for reviews in review_content]"
   ]
  },
  {
   "cell_type": "code",
   "execution_count": 18,
   "metadata": {},
   "outputs": [],
   "source": [
    "#saving the data as csv file\n",
    "import pandas as pd"
   ]
  },
  {
   "cell_type": "code",
   "execution_count": 19,
   "metadata": {},
   "outputs": [],
   "source": [
    "df = pd.DataFrame()\n",
    "df['Customer Name']=cust_name\n",
    "df['Review Rating']=review_rating\n",
    "df['Review Title']=review_title\n",
    "df['Review Content']=review_content\n",
    "df['Product Name']=product_name"
   ]
  },
  {
   "cell_type": "code",
   "execution_count": 20,
   "metadata": {},
   "outputs": [],
   "source": [
    "df.to_csv(r'C:\\web_scrapping.csv',index=True)"
   ]
  },
  {
   "cell_type": "code",
   "execution_count": null,
   "metadata": {},
   "outputs": [],
   "source": []
  }
 ],
 "metadata": {
  "kernelspec": {
   "display_name": "Python 3",
   "language": "python",
   "name": "python3"
  },
  "language_info": {
   "codemirror_mode": {
    "name": "ipython",
    "version": 3
   },
   "file_extension": ".py",
   "mimetype": "text/x-python",
   "name": "python",
   "nbconvert_exporter": "python",
   "pygments_lexer": "ipython3",
   "version": "3.7.9"
  }
 },
 "nbformat": 4,
 "nbformat_minor": 4
}
